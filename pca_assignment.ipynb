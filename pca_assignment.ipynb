{
  "cells": [
    {
      "cell_type": "markdown",
      "metadata": {
        "id": "view-in-github",
        "colab_type": "text"
      },
      "source": [
        "<a href=\"https://colab.research.google.com/github/nladocsi/pca_assignment/blob/main/pca_assignment.ipynb\" target=\"_parent\"><img src=\"https://colab.research.google.com/assets/colab-badge.svg\" alt=\"Open In Colab\"/></a>"
      ]
    },
    {
      "cell_type": "markdown",
      "metadata": {
        "id": "UTmF3_qOk7We"
      },
      "source": [
        "## PCA and Text Analysis\n",
        "\n",
        "This assignment involves processing real e-mails, some of which are scams.\n",
        "\n",
        "Fair warning: Some of these scam e-mails have offensive content. If you start reading the e-mail text or the token data, you might read something offensive. If that's a problem, feel free to e-mail me, and we can talk about it and discuss how to proceed with alternative tasks."
      ]
    },
    {
      "cell_type": "markdown",
      "metadata": {
        "id": "Ayi85iLuk7Wf"
      },
      "source": [
        "### Q1.\n",
        "\n",
        "**Tokens**: The individual words or symbols that create text data like emails. Natural Language Processing is primarily about analyzing the frequency and co-occurrence of tokens.\n",
        "\n",
        "I aggregated all the emails into a single vector, and removed the punctuation and very common words (e.g. \"the\"). Run the below code chunk to open it, and use the Counter class to look at the most common words:"
      ]
    },
    {
      "cell_type": "code",
      "execution_count": null,
      "metadata": {
        "id": "ItZ3s_2Kk7Wf"
      },
      "outputs": [],
      "source": [
        "import pickle\n",
        "with open('all_tokens.pickle', 'rb') as file:\n",
        "    all_tokens = pickle.load(file)\n",
        "\n",
        "from collections import Counter\n",
        "token_count = Counter(all_tokens)\n",
        "token_freq = token_count.most_common()"
      ]
    },
    {
      "cell_type": "markdown",
      "metadata": {
        "id": "3XD88DQ0k7Wf"
      },
      "source": [
        "Plot a histogram of the occurrences\n",
        "of tokens.\n",
        "\n",
        "What do you notice about the frequency of occurrence of different tokens? How does it look?\n",
        "*   In the histogram below I can see that there is a big drop from the left to the right. This indicates that there is a larger number of tokens that occur only once or a few times.\n",
        "*   As the frequency of tokens increases the number of tokens that have that frequency decreases.\n",
        "*   This is a typical trend as when you complie a large amount of \"natrual language\" the freqeuncy of words is inversely proportional to the rank (how high a word is on the list when sorted by frequency) of said word.\n",
        "*   For example, the most frequent work gets rank 1.\n"
      ]
    },
    {
      "cell_type": "code",
      "source": [
        "import matplotlib.pyplot as plt\n",
        "\n",
        "plt.figure(figsize=(10, 6))\n",
        "plt.hist(list(token_count.values()), bins=100)\n",
        "plt.xscale('log')\n",
        "plt.yscale('log')\n",
        "plt.xlabel('Token Frequency (log scale)')\n",
        "plt.ylabel('Number of Tokens (log scale)')\n",
        "plt.title('Histogram of Token Occurrences (log-log scale)')\n",
        "plt.show()"
      ],
      "metadata": {
        "id": "TX3dx9Lh-McZ",
        "outputId": "38934694-fe41-4c94-f7ec-d2c58c54238a",
        "colab": {
          "base_uri": "https://localhost:8080/",
          "height": 434
        }
      },
      "execution_count": null,
      "outputs": [
        {
          "output_type": "display_data",
          "data": {
            "text/plain": [
              "<Figure size 1000x600 with 1 Axes>"
            ],
            "image/png": "[encoded data removed]"
          },
          "metadata": {}
        }
      ]
    },
    {
      "cell_type": "markdown",
      "metadata": {
        "id": "NyZTS0Fkk7Wg"
      },
      "source": [
        "### Q2.\n",
        "\n",
        "Load `Phishing_clean.parquet`. This is the text from the e-mails broken into the most common 2,711 tokens and one-hot-encoded as features/covariates. So each row is an e-mail, the `Email Type` takes the value 1 if it's a scam and 0 otherwise, and every other column is a word or symbol that occurs in at least 15 e-mails.\n",
        "\n",
        "1. Perform an 80/20 train-test split of the data.\n",
        "2. Run a regression of $y$ on the one-hot-encoded emails. What is the $R^2$ on the test set? On the training set?\n",
        "3. What words have the largest coefficients in absolute value and most strongly influence predictions? **Intervention, localizaed, thermal, crawler, background-image**"
      ]
    },
    {
      "cell_type": "code",
      "source": [
        "import pandas as pd\n",
        "import numpy as np\n",
        "from sklearn.model_selection import train_test_split\n",
        "from sklearn.linear_model import LinearRegression\n",
        "\n",
        "df = pd.read_parquet('Phishing_clean.parquet')\n",
        "#print(df.head())"
      ],
      "metadata": {
        "id": "4i7pZpnpG4M7"
      },
      "execution_count": 15,
      "outputs": []
    },
    {
      "cell_type": "code",
      "execution_count": 12,
      "metadata": {
        "id": "T0jq3q4Qk7Wg",
        "outputId": "98b36454-31c6-4c62-aa17-30ede1111310",
        "colab": {
          "base_uri": "https://localhost:8080/"
        }
      },
      "outputs": [
        {
          "output_type": "stream",
          "name": "stdout",
          "text": [
            "Training R^2: 0.7670143724934355\n",
            "Testing R^2: 0.6658718438847919\n"
          ]
        }
      ],
      "source": [
        "#2.1\n",
        "X = df.drop(columns=['Email Type'])\n",
        "y = df['Email Type']\n",
        "\n",
        "X_train, X_test, y_train, y_test = train_test_split(X, y, test_size=0.2, random_state=42)\n",
        "\n",
        "#2.2\n",
        "model = LinearRegression()\n",
        "model.fit(X_train, y_train)\n",
        "\n",
        "y_pred_train = model.predict(X_train)\n",
        "y_pred_test = model.predict(X_test)\n",
        "\n",
        "r2_train = model.score(X_train, y_train)\n",
        "r2_test = model.score(X_test, y_test)\n",
        "\n",
        "print(\"Training R^2:\", r2_train)\n",
        "print(\"Testing R^2:\", r2_test)\n"
      ]
    },
    {
      "cell_type": "code",
      "source": [
        "#2.3\n",
        "coef_df = pd.DataFrame({\n",
        "    'token': X.columns,\n",
        "    'coefficient': model.coef_\n",
        "})\n",
        "\n",
        "# Sort by absolute value\n",
        "coef_df['abs_coef'] = np.abs(coef_df['coefficient'])\n",
        "top_tokens = coef_df.sort_values('abs_coef', ascending=False).head(15)\n",
        "\n",
        "print(top_tokens)"
      ],
      "metadata": {
        "id": "oGJsFpauJ2dD",
        "outputId": "f5d2f670-1201-4871-c8ce-791185ceb6e5",
        "colab": {
          "base_uri": "https://localhost:8080/"
        }
      },
      "execution_count": 13,
      "outputs": [
        {
          "output_type": "stream",
          "name": "stdout",
          "text": [
            "                  token  coefficient  abs_coef\n",
            "835        intervention    -1.259257  1.259257\n",
            "740           localized     0.824350  0.824350\n",
            "2362            thermal     0.747006  0.747006\n",
            "851             crawler     0.696167  0.696167\n",
            "1504  background-image:    -0.622909  0.622909\n",
            "1406         helvetica,     0.598560  0.598560\n",
            "906               aging     0.594956  0.594956\n",
            "1839              form.     0.576886  0.576886\n",
            "2242              gray;    -0.574480  0.574480\n",
            "1552           a:active     0.574480  0.574480\n",
            "1494         retrieving    -0.573761  0.573761\n",
            "2657              zdnet    -0.560954  0.560954\n",
            "1245  {text-decoration:     0.497075  0.497075\n",
            "2532             xanaax     0.491981  0.491981\n",
            "2566         transcript     0.488978  0.488978\n"
          ]
        }
      ]
    },
    {
      "cell_type": "markdown",
      "metadata": {
        "id": "Db06oMA8k7Wg"
      },
      "source": [
        "### Q3.\n",
        "\n",
        "Take the matrix of one-hot-encoded tokens (the data, less the outcome variable, `Email Type`) and perform a principal components analysis decomposition with two components. Plot the first two principal components in a scatter plot, and hue the points by whether they are a phishing scam or not. Do you notice any patterns?"
      ]
    },
    {
      "cell_type": "code",
      "execution_count": null,
      "metadata": {
        "id": "AA6n3AQTk7Wg"
      },
      "outputs": [],
      "source": [
        "from sklearn.decomposition import PCA\n"
      ]
    },
    {
      "cell_type": "markdown",
      "metadata": {
        "id": "VPyxW2kVk7Wg"
      },
      "source": [
        "### Q4.\n",
        "\n",
        "Run a linear regression of $y$ on the first 2,610 principal components of $X$. What is the $R^2$ on the training and test sets? (I used cross validation to determine that 2,610 was approximately optimal, but not all 2,711 components.)\n",
        "\n",
        "How does this performance compare to the linear regression?"
      ]
    },
    {
      "cell_type": "code",
      "execution_count": null,
      "metadata": {
        "id": "UtRUH8jJk7Wg"
      },
      "outputs": [],
      "source": []
    },
    {
      "cell_type": "markdown",
      "metadata": {
        "id": "PDZrCgrfk7Wg"
      },
      "source": [
        "### Q5.\n",
        "\n",
        "Explain briefly in your own words what the advantage is in using the principal components to run this high-dimensional regression, rather than the original data."
      ]
    },
    {
      "cell_type": "code",
      "execution_count": null,
      "metadata": {
        "id": "QT26HaSCk7Wg"
      },
      "outputs": [],
      "source": []
    }
  ],
  "metadata": {
    "kernelspec": {
      "display_name": "Python 3 (ipykernel)",
      "language": "python",
      "name": "python3"
    },
    "language_info": {
      "codemirror_mode": {
        "name": "ipython",
        "version": 3
      },
      "file_extension": ".py",
      "mimetype": "text/x-python",
      "name": "python",
      "nbconvert_exporter": "python",
      "pygments_lexer": "ipython3",
      "version": "3.10.18"
    },
    "colab": {
      "provenance": [],
      "name": "pca_assignment.ipynb",
      "include_colab_link": true
    }
  },
  "nbformat": 4,
  "nbformat_minor": 0
}